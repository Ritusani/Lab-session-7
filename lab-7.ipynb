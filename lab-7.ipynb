{
 "cells": [
  {
   "cell_type": "markdown",
   "metadata": {},
   "source": [
    "### Data wrangling for LAB SESSION 3\n"
   ]
  },
  {
   "cell_type": "markdown",
   "metadata": {},
   "source": [
    "### 1. Importing all the libraries:\n"
   ]
  },
  {
   "cell_type": "code",
   "execution_count": 1,
   "metadata": {
    "collapsed": true
   },
   "outputs": [],
   "source": [
    "import pandas as pd\n",
    "import json\n",
    "import requests\n",
    "import urllib\n",
    "import pandas_datareader as pdr"
   ]
  },
  {
   "cell_type": "markdown",
   "metadata": {},
   "source": [
    "### 2. Reading the data file in a dataframe (df):"
   ]
  },
  {
   "cell_type": "code",
   "execution_count": 106,
   "metadata": {
    "collapsed": true
   },
   "outputs": [],
   "source": [
    "df = pd.read_excel('lab3.xlsx')"
   ]
  },
  {
   "cell_type": "markdown",
   "metadata": {},
   "source": [
    "### 3. Some changes in column names:"
   ]
  },
  {
   "cell_type": "code",
   "execution_count": 107,
   "metadata": {
    "collapsed": true
   },
   "outputs": [],
   "source": [
    "df = df.rename(columns={\n",
    "                        'YEAR':'Year',\n",
    "                        'records lost':'Records Lost',\n",
    "                        'ORGANISATION':'Organisation',\n",
    "                        'METHOD OF LEAK':'Method Of Leak',\n",
    "                        'DATA SENSITIVITY':'Data Sensitivity',\n",
    "                        })"
   ]
  },
  {
   "cell_type": "markdown",
   "metadata": {},
   "source": [
    "### 4. To access Yahoo finance data for the ticker symbols of all the companies:"
   ]
  },
  {
   "cell_type": "code",
   "execution_count": 110,
   "metadata": {
    "collapsed": true
   },
   "outputs": [],
   "source": [
    "import urllib\n",
    "import json\n",
    "import requests"
   ]
  },
  {
   "cell_type": "code",
   "execution_count": 112,
   "metadata": {},
   "outputs": [
    {
     "name": "stdout",
     "output_type": "stream",
     "text": [
      "[u'AOL-U.TI', u'ADP', None, u'CIT-U.TI', None, u'HPQ', None, u'KDDIY', None, u'AOL-U.TI', None, None, None, u'GPS', None, None, None, None, None, u'AMTD', u'FIS', u'DNPCF', None, None, None, None, None, u'AT', u'SBUX', None, None, None, u'^UMIAMIFL', None, None, None, None, None, None, None, None, None, None, None, None, u'LYNS', None, None, u'IGRW', None, None, None, None, u'HTLD', None, u'AT', None, None, None, None, None, None, None, None, None, None, None, None, None, None, None, u'PPB.L', u'JPM-PB', None, None, None, None, None, None, None, None, None, None, None, None, None, None, u'CIT-U.TI', None, None, u'GB00B1Z54R10.L', None, None, None, u'SGAMY', None, None, None, None, None, None, None, u'NHS', None, None, None, None, u'SAND-P.V', None, None, None, None, None, None, None, None, None, u'GPN', None, None, None, None, None, u'KTC.DU', None, None, u'ATVI', None, None, None, None, u'KCT.V', u'K55306BA2822.KS', None, None, None, None, None, None, u'CIT-U.TI', None, None, u'2GF.F', u'NTDOY', u'TWTR', u'AAPL', u'OVH.AX', None, None, u'NMBS.KL', None, None, None, u'VOD', None, None, None, u'FB', u'YAHOY', u'ADBE', None, None, u'UBI.PA', u'AABA', None, None, u'NDAQ', None, u'JAPSY', None, None, u'D', None, u'SPLS', None, u'UPS', u'CYH', None, None, None, None, u'AOL-U.TI', u'HD', u'TGT', u'JPM-PB', u'EBAY', u'AABA', None, None, u'IRS', u'TALK.L', u'MSPYX', None, None, None, None, None, u'CPWFF8.EX', u'SJ8.MU', None, None, u'0303.HK', None, None, None, None, None, None, None, None, None, None, None, u'FLINGX', None, None, u'ANTM', u'VKTX', None, None, None, None, None, None, None, None, u'DGX', u'ATGYX', None, None, None, None, None, None, u'T', None, None, None, None, u'035080.KQ', None, u'AABA', None, None, None, None, None, None, u'^CEX', None, None, u'EFX', None]\n"
     ]
    }
   ],
   "source": [
    "\n",
    "def get_symbol(name):\n",
    "    url = 'http://d.yimg.com/autoc.finance.yahoo.com/autoc?query='+name+'&region=1&lang=en'\n",
    "\n",
    "    result = requests.get(url).json()\n",
    "    \n",
    "    for x in result['ResultSet']['Result']:\n",
    "        return x['symbol']\n",
    "\n",
    "ticker=[]\n",
    "company = df.Entity\n",
    " \n",
    "for tkr in company:\n",
    "    ticker.append(get_symbol(tkr))\n",
    "    \n",
    "print(ticker)"
   ]
  },
  {
   "cell_type": "markdown",
   "metadata": {},
   "source": [
    "### 5. Saving all the ticker symbols in a new dataframe - ticker_df"
   ]
  },
  {
   "cell_type": "code",
   "execution_count": 113,
   "metadata": {
    "collapsed": true
   },
   "outputs": [],
   "source": [
    "ticker_df = pd.DataFrame(ticker)"
   ]
  },
  {
   "cell_type": "code",
   "execution_count": 114,
   "metadata": {},
   "outputs": [
    {
     "data": {
      "text/html": [
       "<div>\n",
       "<style>\n",
       "    .dataframe thead tr:only-child th {\n",
       "        text-align: right;\n",
       "    }\n",
       "\n",
       "    .dataframe thead th {\n",
       "        text-align: left;\n",
       "    }\n",
       "\n",
       "    .dataframe tbody tr th {\n",
       "        vertical-align: top;\n",
       "    }\n",
       "</style>\n",
       "<table border=\"1\" class=\"dataframe\">\n",
       "  <thead>\n",
       "    <tr style=\"text-align: right;\">\n",
       "      <th></th>\n",
       "      <th>0</th>\n",
       "    </tr>\n",
       "  </thead>\n",
       "  <tbody>\n",
       "    <tr>\n",
       "      <th>0</th>\n",
       "      <td>AOL-U.TI</td>\n",
       "    </tr>\n",
       "    <tr>\n",
       "      <th>1</th>\n",
       "      <td>ADP</td>\n",
       "    </tr>\n",
       "    <tr>\n",
       "      <th>2</th>\n",
       "      <td>None</td>\n",
       "    </tr>\n",
       "    <tr>\n",
       "      <th>3</th>\n",
       "      <td>CIT-U.TI</td>\n",
       "    </tr>\n",
       "    <tr>\n",
       "      <th>4</th>\n",
       "      <td>None</td>\n",
       "    </tr>\n",
       "  </tbody>\n",
       "</table>\n",
       "</div>"
      ],
      "text/plain": [
       "          0\n",
       "0  AOL-U.TI\n",
       "1       ADP\n",
       "2      None\n",
       "3  CIT-U.TI\n",
       "4      None"
      ]
     },
     "execution_count": 114,
     "metadata": {},
     "output_type": "execute_result"
    }
   ],
   "source": [
    "ticker_df.head()"
   ]
  },
  {
   "cell_type": "markdown",
   "metadata": {},
   "source": [
    "--> To link the stock price data to time:"
   ]
  },
  {
   "cell_type": "code",
   "execution_count": 115,
   "metadata": {
    "collapsed": true
   },
   "outputs": [],
   "source": [
    "import pandas_datareader as pdr"
   ]
  },
  {
   "cell_type": "code",
   "execution_count": 117,
   "metadata": {
    "collapsed": true
   },
   "outputs": [],
   "source": [
    "import datetime\n",
    "start_date = datetime.datetime(2004,1,1)\n",
    "end_date = datetime.datetime(2017,6,6)\n",
    "source = 'yahoo'\n",
    "panel_data = pdr.DataReader(ticker, source, start_date, end_date)"
   ]
  },
  {
   "cell_type": "code",
   "execution_count": 118,
   "metadata": {},
   "outputs": [
    {
     "data": {
      "text/plain": [
       "<class 'pandas.core.panel.Panel'>\n",
       "Dimensions: 6 (items) x 3567 (major_axis) x 63 (minor_axis)\n",
       "Items axis: Adj Close to Volume\n",
       "Major_axis axis: 2004-01-01 00:00:00 to 2017-06-07 00:00:00\n",
       "Minor_axis axis: None to ^UMIAMIFL"
      ]
     },
     "execution_count": 118,
     "metadata": {},
     "output_type": "execute_result"
    }
   ],
   "source": [
    "panel_data"
   ]
  },
  {
   "cell_type": "markdown",
   "metadata": {},
   "source": [
    "--> Putting the panel data into the data frame:"
   ]
  },
  {
   "cell_type": "code",
   "execution_count": 121,
   "metadata": {
    "collapsed": true
   },
   "outputs": [],
   "source": [
    "close = panel_data.ix['Close']"
   ]
  },
  {
   "cell_type": "markdown",
   "metadata": {},
   "source": [
    "--> to include only weekdays:"
   ]
  },
  {
   "cell_type": "code",
   "execution_count": 122,
   "metadata": {
    "collapsed": true
   },
   "outputs": [],
   "source": [
    "weekdays = pd.date_range(start=start, end=end, freq='B')"
   ]
  },
  {
   "cell_type": "code",
   "execution_count": 123,
   "metadata": {
    "collapsed": true
   },
   "outputs": [],
   "source": [
    "close = close.reindex(weekdays)"
   ]
  },
  {
   "cell_type": "code",
   "execution_count": 126,
   "metadata": {
    "collapsed": true
   },
   "outputs": [],
   "source": [
    "close = close.dropna(axis=1,how='all')"
   ]
  },
  {
   "cell_type": "code",
   "execution_count": 127,
   "metadata": {
    "collapsed": true
   },
   "outputs": [],
   "source": [
    "ticker_df = ticker_df.rename(columns={\n",
    "                        0:'Ticker Symbol'})"
   ]
  },
  {
   "cell_type": "code",
   "execution_count": 128,
   "metadata": {},
   "outputs": [
    {
     "data": {
      "text/html": [
       "<div>\n",
       "<style>\n",
       "    .dataframe thead tr:only-child th {\n",
       "        text-align: right;\n",
       "    }\n",
       "\n",
       "    .dataframe thead th {\n",
       "        text-align: left;\n",
       "    }\n",
       "\n",
       "    .dataframe tbody tr th {\n",
       "        vertical-align: top;\n",
       "    }\n",
       "</style>\n",
       "<table border=\"1\" class=\"dataframe\">\n",
       "  <thead>\n",
       "    <tr style=\"text-align: right;\">\n",
       "      <th></th>\n",
       "      <th>Ticker Symbol</th>\n",
       "    </tr>\n",
       "  </thead>\n",
       "  <tbody>\n",
       "    <tr>\n",
       "      <th>0</th>\n",
       "      <td>AOL-U.TI</td>\n",
       "    </tr>\n",
       "    <tr>\n",
       "      <th>1</th>\n",
       "      <td>ADP</td>\n",
       "    </tr>\n",
       "    <tr>\n",
       "      <th>2</th>\n",
       "      <td>None</td>\n",
       "    </tr>\n",
       "    <tr>\n",
       "      <th>3</th>\n",
       "      <td>CIT-U.TI</td>\n",
       "    </tr>\n",
       "    <tr>\n",
       "      <th>4</th>\n",
       "      <td>None</td>\n",
       "    </tr>\n",
       "  </tbody>\n",
       "</table>\n",
       "</div>"
      ],
      "text/plain": [
       "  Ticker Symbol\n",
       "0      AOL-U.TI\n",
       "1           ADP\n",
       "2          None\n",
       "3      CIT-U.TI\n",
       "4          None"
      ]
     },
     "execution_count": 128,
     "metadata": {},
     "output_type": "execute_result"
    }
   ],
   "source": [
    "ticker_df.head()"
   ]
  },
  {
   "cell_type": "markdown",
   "metadata": {},
   "source": [
    "Adding the ticker symbol to the main data frame - df :"
   ]
  },
  {
   "cell_type": "code",
   "execution_count": 129,
   "metadata": {
    "collapsed": true
   },
   "outputs": [],
   "source": [
    "df['Ticker Symbol'] = ticker_df['Ticker Symbol']"
   ]
  },
  {
   "cell_type": "code",
   "execution_count": 130,
   "metadata": {},
   "outputs": [
    {
     "data": {
      "text/html": [
       "<div>\n",
       "<style>\n",
       "    .dataframe thead tr:only-child th {\n",
       "        text-align: right;\n",
       "    }\n",
       "\n",
       "    .dataframe thead th {\n",
       "        text-align: left;\n",
       "    }\n",
       "\n",
       "    .dataframe tbody tr th {\n",
       "        vertical-align: top;\n",
       "    }\n",
       "</style>\n",
       "<table border=\"1\" class=\"dataframe\">\n",
       "  <thead>\n",
       "    <tr style=\"text-align: right;\">\n",
       "      <th></th>\n",
       "      <th>Entity</th>\n",
       "      <th>Year</th>\n",
       "      <th>Records Lost</th>\n",
       "      <th>Organisation</th>\n",
       "      <th>Method Of Leak</th>\n",
       "      <th>Data Sensitivity</th>\n",
       "      <th>Ticker Symbol</th>\n",
       "    </tr>\n",
       "  </thead>\n",
       "  <tbody>\n",
       "    <tr>\n",
       "      <th>0</th>\n",
       "      <td>AOL</td>\n",
       "      <td>2004</td>\n",
       "      <td>92000000</td>\n",
       "      <td>web</td>\n",
       "      <td>inside job</td>\n",
       "      <td>Just email address/Online information</td>\n",
       "      <td>AOL-U.TI</td>\n",
       "    </tr>\n",
       "    <tr>\n",
       "      <th>1</th>\n",
       "      <td>Automatic Data Processing</td>\n",
       "      <td>2005</td>\n",
       "      <td>125000</td>\n",
       "      <td>financial</td>\n",
       "      <td>poor security</td>\n",
       "      <td>SSN/Personal details</td>\n",
       "      <td>ADP</td>\n",
       "    </tr>\n",
       "    <tr>\n",
       "      <th>2</th>\n",
       "      <td>Ameritrade Inc.</td>\n",
       "      <td>2005</td>\n",
       "      <td>200000</td>\n",
       "      <td>financial</td>\n",
       "      <td>lost / stolen device</td>\n",
       "      <td>SSN/Personal details</td>\n",
       "      <td>None</td>\n",
       "    </tr>\n",
       "    <tr>\n",
       "      <th>3</th>\n",
       "      <td>Citigroup</td>\n",
       "      <td>2005</td>\n",
       "      <td>3900000</td>\n",
       "      <td>financial</td>\n",
       "      <td>lost / stolen device</td>\n",
       "      <td>Credit card information</td>\n",
       "      <td>CIT-U.TI</td>\n",
       "    </tr>\n",
       "    <tr>\n",
       "      <th>4</th>\n",
       "      <td>Cardsystems Solutions Inc.</td>\n",
       "      <td>2005</td>\n",
       "      <td>40000000</td>\n",
       "      <td>financial</td>\n",
       "      <td>hacked</td>\n",
       "      <td>Credit card information</td>\n",
       "      <td>None</td>\n",
       "    </tr>\n",
       "  </tbody>\n",
       "</table>\n",
       "</div>"
      ],
      "text/plain": [
       "                        Entity  Year  Records Lost Organisation  \\\n",
       "0                          AOL  2004      92000000          web   \n",
       "1    Automatic Data Processing  2005        125000    financial   \n",
       "2              Ameritrade Inc.  2005        200000    financial   \n",
       "3                    Citigroup  2005       3900000    financial   \n",
       "4  Cardsystems Solutions Inc.   2005      40000000    financial   \n",
       "\n",
       "         Method Of Leak                       Data Sensitivity Ticker Symbol  \n",
       "0            inside job  Just email address/Online information      AOL-U.TI  \n",
       "1         poor security                   SSN/Personal details           ADP  \n",
       "2  lost / stolen device                   SSN/Personal details          None  \n",
       "3  lost / stolen device                Credit card information      CIT-U.TI  \n",
       "4                hacked                Credit card information          None  "
      ]
     },
     "execution_count": 130,
     "metadata": {},
     "output_type": "execute_result"
    }
   ],
   "source": [
    "df.head()"
   ]
  },
  {
   "cell_type": "code",
   "execution_count": 131,
   "metadata": {
    "collapsed": true
   },
   "outputs": [],
   "source": [
    "df = df.dropna(axis=0,how='any')"
   ]
  },
  {
   "cell_type": "markdown",
   "metadata": {},
   "source": [
    "Was trying to reformat my table using this (mentioned below) code which took forever to run so tried something else - \n",
    "\n",
    "As I first transposed my table and then I had remove the transpose to actually get this to work.\n",
    "\n"
   ]
  },
  {
   "cell_type": "code",
   "execution_count": 134,
   "metadata": {
    "collapsed": true,
    "scrolled": false
   },
   "outputs": [],
   "source": [
    "##r_df= pd.DataFrame(columns=['Col1','Col2','col3'])\n",
    "    #k =0\n",
    "#for i in range(len(close)) : \n",
    "    #ts = close.index[i]\n",
    "    #for j in range(len(close.iloc[i])): \n",
    "        #time_frame = pd.to_datetime(str(close.columns.values[j]))\n",
    "        #date = time_frame.strftime('%Y-%m-%d')\n",
    "        #r_df.loc[k]=( ts,  date , close.iloc[i][j])\n",
    "        #k=k+1"
   ]
  },
  {
   "cell_type": "code",
   "execution_count": 136,
   "metadata": {},
   "outputs": [
    {
     "data": {
      "text/html": [
       "<div>\n",
       "<style>\n",
       "    .dataframe thead tr:only-child th {\n",
       "        text-align: right;\n",
       "    }\n",
       "\n",
       "    .dataframe thead th {\n",
       "        text-align: left;\n",
       "    }\n",
       "\n",
       "    .dataframe tbody tr th {\n",
       "        vertical-align: top;\n",
       "    }\n",
       "</style>\n",
       "<table border=\"1\" class=\"dataframe\">\n",
       "  <thead>\n",
       "    <tr style=\"text-align: right;\">\n",
       "      <th></th>\n",
       "      <th>0303.HK</th>\n",
       "      <th>035080.KQ</th>\n",
       "      <th>2GF.F</th>\n",
       "      <th>AABA</th>\n",
       "      <th>AAPL</th>\n",
       "      <th>ADBE</th>\n",
       "      <th>ADP</th>\n",
       "      <th>AMTD</th>\n",
       "      <th>ANTM</th>\n",
       "      <th>AT</th>\n",
       "      <th>...</th>\n",
       "      <th>T</th>\n",
       "      <th>TALK.L</th>\n",
       "      <th>TGT</th>\n",
       "      <th>TWTR</th>\n",
       "      <th>UBI.PA</th>\n",
       "      <th>UPS</th>\n",
       "      <th>VKTX</th>\n",
       "      <th>VOD</th>\n",
       "      <th>YAHOY</th>\n",
       "      <th>^CEX</th>\n",
       "    </tr>\n",
       "  </thead>\n",
       "  <tbody>\n",
       "    <tr>\n",
       "      <th>2004-01-01</th>\n",
       "      <td>11.05</td>\n",
       "      <td>NaN</td>\n",
       "      <td>NaN</td>\n",
       "      <td>NaN</td>\n",
       "      <td>NaN</td>\n",
       "      <td>NaN</td>\n",
       "      <td>NaN</td>\n",
       "      <td>NaN</td>\n",
       "      <td>NaN</td>\n",
       "      <td>NaN</td>\n",
       "      <td>...</td>\n",
       "      <td>NaN</td>\n",
       "      <td>NaN</td>\n",
       "      <td>NaN</td>\n",
       "      <td>NaN</td>\n",
       "      <td>5.5900</td>\n",
       "      <td>NaN</td>\n",
       "      <td>NaN</td>\n",
       "      <td>NaN</td>\n",
       "      <td>NaN</td>\n",
       "      <td>NaN</td>\n",
       "    </tr>\n",
       "    <tr>\n",
       "      <th>2004-01-02</th>\n",
       "      <td>11.00</td>\n",
       "      <td>2543.219971</td>\n",
       "      <td>NaN</td>\n",
       "      <td>22.700001</td>\n",
       "      <td>1.520000</td>\n",
       "      <td>19.549999</td>\n",
       "      <td>31.690842</td>\n",
       "      <td>14.15</td>\n",
       "      <td>38.139999</td>\n",
       "      <td>NaN</td>\n",
       "      <td>...</td>\n",
       "      <td>26.139999</td>\n",
       "      <td>NaN</td>\n",
       "      <td>37.720001</td>\n",
       "      <td>NaN</td>\n",
       "      <td>5.6125</td>\n",
       "      <td>73.650002</td>\n",
       "      <td>NaN</td>\n",
       "      <td>29.485947</td>\n",
       "      <td>NaN</td>\n",
       "      <td>197.270004</td>\n",
       "    </tr>\n",
       "    <tr>\n",
       "      <th>2004-01-05</th>\n",
       "      <td>11.60</td>\n",
       "      <td>2713.330078</td>\n",
       "      <td>NaN</td>\n",
       "      <td>23.450001</td>\n",
       "      <td>1.583571</td>\n",
       "      <td>19.900000</td>\n",
       "      <td>32.626656</td>\n",
       "      <td>14.88</td>\n",
       "      <td>36.855000</td>\n",
       "      <td>NaN</td>\n",
       "      <td>...</td>\n",
       "      <td>27.049999</td>\n",
       "      <td>NaN</td>\n",
       "      <td>37.400002</td>\n",
       "      <td>NaN</td>\n",
       "      <td>5.8125</td>\n",
       "      <td>73.930000</td>\n",
       "      <td>NaN</td>\n",
       "      <td>30.650940</td>\n",
       "      <td>NaN</td>\n",
       "      <td>200.089996</td>\n",
       "    </tr>\n",
       "    <tr>\n",
       "      <th>2004-01-06</th>\n",
       "      <td>11.55</td>\n",
       "      <td>2721.840088</td>\n",
       "      <td>NaN</td>\n",
       "      <td>23.620001</td>\n",
       "      <td>1.577857</td>\n",
       "      <td>19.920000</td>\n",
       "      <td>32.935951</td>\n",
       "      <td>15.00</td>\n",
       "      <td>37.055000</td>\n",
       "      <td>NaN</td>\n",
       "      <td>...</td>\n",
       "      <td>27.120001</td>\n",
       "      <td>NaN</td>\n",
       "      <td>38.570000</td>\n",
       "      <td>NaN</td>\n",
       "      <td>5.6775</td>\n",
       "      <td>73.480003</td>\n",
       "      <td>NaN</td>\n",
       "      <td>31.116936</td>\n",
       "      <td>NaN</td>\n",
       "      <td>198.300003</td>\n",
       "    </tr>\n",
       "    <tr>\n",
       "      <th>2004-01-07</th>\n",
       "      <td>11.70</td>\n",
       "      <td>2768.620117</td>\n",
       "      <td>NaN</td>\n",
       "      <td>23.834999</td>\n",
       "      <td>1.613571</td>\n",
       "      <td>19.719999</td>\n",
       "      <td>32.761478</td>\n",
       "      <td>15.14</td>\n",
       "      <td>37.250000</td>\n",
       "      <td>NaN</td>\n",
       "      <td>...</td>\n",
       "      <td>27.100000</td>\n",
       "      <td>NaN</td>\n",
       "      <td>38.270000</td>\n",
       "      <td>NaN</td>\n",
       "      <td>5.6975</td>\n",
       "      <td>73.239998</td>\n",
       "      <td>NaN</td>\n",
       "      <td>31.000437</td>\n",
       "      <td>NaN</td>\n",
       "      <td>197.759995</td>\n",
       "    </tr>\n",
       "  </tbody>\n",
       "</table>\n",
       "<p>5 rows × 53 columns</p>\n",
       "</div>"
      ],
      "text/plain": [
       "            0303.HK    035080.KQ  2GF.F       AABA      AAPL       ADBE  \\\n",
       "2004-01-01    11.05          NaN    NaN        NaN       NaN        NaN   \n",
       "2004-01-02    11.00  2543.219971    NaN  22.700001  1.520000  19.549999   \n",
       "2004-01-05    11.60  2713.330078    NaN  23.450001  1.583571  19.900000   \n",
       "2004-01-06    11.55  2721.840088    NaN  23.620001  1.577857  19.920000   \n",
       "2004-01-07    11.70  2768.620117    NaN  23.834999  1.613571  19.719999   \n",
       "\n",
       "                  ADP   AMTD       ANTM  AT     ...              T  TALK.L  \\\n",
       "2004-01-01        NaN    NaN        NaN NaN     ...            NaN     NaN   \n",
       "2004-01-02  31.690842  14.15  38.139999 NaN     ...      26.139999     NaN   \n",
       "2004-01-05  32.626656  14.88  36.855000 NaN     ...      27.049999     NaN   \n",
       "2004-01-06  32.935951  15.00  37.055000 NaN     ...      27.120001     NaN   \n",
       "2004-01-07  32.761478  15.14  37.250000 NaN     ...      27.100000     NaN   \n",
       "\n",
       "                  TGT  TWTR  UBI.PA        UPS  VKTX        VOD  YAHOY  \\\n",
       "2004-01-01        NaN   NaN  5.5900        NaN   NaN        NaN    NaN   \n",
       "2004-01-02  37.720001   NaN  5.6125  73.650002   NaN  29.485947    NaN   \n",
       "2004-01-05  37.400002   NaN  5.8125  73.930000   NaN  30.650940    NaN   \n",
       "2004-01-06  38.570000   NaN  5.6775  73.480003   NaN  31.116936    NaN   \n",
       "2004-01-07  38.270000   NaN  5.6975  73.239998   NaN  31.000437    NaN   \n",
       "\n",
       "                  ^CEX  \n",
       "2004-01-01         NaN  \n",
       "2004-01-02  197.270004  \n",
       "2004-01-05  200.089996  \n",
       "2004-01-06  198.300003  \n",
       "2004-01-07  197.759995  \n",
       "\n",
       "[5 rows x 53 columns]"
      ]
     },
     "execution_count": 136,
     "metadata": {},
     "output_type": "execute_result"
    }
   ],
   "source": [
    "close.head()"
   ]
  },
  {
   "cell_type": "markdown",
   "metadata": {},
   "source": [
    "--> to decrease the data size, I came up with an average stock price for all the companies for one year:"
   ]
  },
  {
   "cell_type": "code",
   "execution_count": 137,
   "metadata": {
    "collapsed": true
   },
   "outputs": [],
   "source": [
    "close = close.groupby(pd.TimeGrouper(freq='12M')).mean()"
   ]
  },
  {
   "cell_type": "markdown",
   "metadata": {},
   "source": [
    "--> Transposing the original table:"
   ]
  },
  {
   "cell_type": "code",
   "execution_count": 138,
   "metadata": {
    "collapsed": true
   },
   "outputs": [],
   "source": [
    "close = close.T"
   ]
  },
  {
   "cell_type": "code",
   "execution_count": 139,
   "metadata": {},
   "outputs": [
    {
     "data": {
      "text/html": [
       "<div>\n",
       "<style>\n",
       "    .dataframe thead tr:only-child th {\n",
       "        text-align: right;\n",
       "    }\n",
       "\n",
       "    .dataframe thead th {\n",
       "        text-align: left;\n",
       "    }\n",
       "\n",
       "    .dataframe tbody tr th {\n",
       "        vertical-align: top;\n",
       "    }\n",
       "</style>\n",
       "<table border=\"1\" class=\"dataframe\">\n",
       "  <thead>\n",
       "    <tr style=\"text-align: right;\">\n",
       "      <th></th>\n",
       "      <th>2004-01-31 00:00:00</th>\n",
       "      <th>2005-01-31 00:00:00</th>\n",
       "      <th>2006-01-31 00:00:00</th>\n",
       "      <th>2007-01-31 00:00:00</th>\n",
       "      <th>2008-01-31 00:00:00</th>\n",
       "      <th>2009-01-31 00:00:00</th>\n",
       "      <th>2010-01-31 00:00:00</th>\n",
       "      <th>2011-01-31 00:00:00</th>\n",
       "      <th>2012-01-31 00:00:00</th>\n",
       "      <th>2013-01-31 00:00:00</th>\n",
       "      <th>2014-01-31 00:00:00</th>\n",
       "      <th>2015-01-31 00:00:00</th>\n",
       "      <th>2016-01-31 00:00:00</th>\n",
       "      <th>2017-01-31 00:00:00</th>\n",
       "      <th>2018-01-31 00:00:00</th>\n",
       "    </tr>\n",
       "  </thead>\n",
       "  <tbody>\n",
       "    <tr>\n",
       "      <th>0303.HK</th>\n",
       "      <td>11.956818</td>\n",
       "      <td>13.152299</td>\n",
       "      <td>19.583469</td>\n",
       "      <td>38.933400</td>\n",
       "      <td>59.039634</td>\n",
       "      <td>38.519918</td>\n",
       "      <td>54.180478</td>\n",
       "      <td>83.305400</td>\n",
       "      <td>84.078189</td>\n",
       "      <td>90.429000</td>\n",
       "      <td>105.294262</td>\n",
       "      <td>100.252632</td>\n",
       "      <td>96.951220</td>\n",
       "      <td>89.317073</td>\n",
       "      <td>98.114881</td>\n",
       "    </tr>\n",
       "    <tr>\n",
       "      <th>035080.KQ</th>\n",
       "      <td>2758.696682</td>\n",
       "      <td>2051.893008</td>\n",
       "      <td>4614.145226</td>\n",
       "      <td>7148.666972</td>\n",
       "      <td>5795.079755</td>\n",
       "      <td>4404.571429</td>\n",
       "      <td>6234.212598</td>\n",
       "      <td>5103.869048</td>\n",
       "      <td>5319.190283</td>\n",
       "      <td>6211.400000</td>\n",
       "      <td>9145.510204</td>\n",
       "      <td>11107.398374</td>\n",
       "      <td>10496.048387</td>\n",
       "      <td>6609.085366</td>\n",
       "      <td>5116.726190</td>\n",
       "    </tr>\n",
       "    <tr>\n",
       "      <th>2GF.F</th>\n",
       "      <td>NaN</td>\n",
       "      <td>NaN</td>\n",
       "      <td>NaN</td>\n",
       "      <td>NaN</td>\n",
       "      <td>NaN</td>\n",
       "      <td>NaN</td>\n",
       "      <td>NaN</td>\n",
       "      <td>NaN</td>\n",
       "      <td>0.730577</td>\n",
       "      <td>0.414558</td>\n",
       "      <td>0.123178</td>\n",
       "      <td>0.029996</td>\n",
       "      <td>0.007642</td>\n",
       "      <td>0.009451</td>\n",
       "      <td>0.015126</td>\n",
       "    </tr>\n",
       "    <tr>\n",
       "      <th>AABA</th>\n",
       "      <td>23.770250</td>\n",
       "      <td>30.758254</td>\n",
       "      <td>35.605357</td>\n",
       "      <td>29.151554</td>\n",
       "      <td>27.017421</td>\n",
       "      <td>20.367857</td>\n",
       "      <td>15.215179</td>\n",
       "      <td>15.589486</td>\n",
       "      <td>15.532698</td>\n",
       "      <td>16.342271</td>\n",
       "      <td>29.362619</td>\n",
       "      <td>40.140359</td>\n",
       "      <td>37.581315</td>\n",
       "      <td>38.563399</td>\n",
       "      <td>47.285632</td>\n",
       "    </tr>\n",
       "    <tr>\n",
       "      <th>AAPL</th>\n",
       "      <td>1.628678</td>\n",
       "      <td>2.800831</td>\n",
       "      <td>7.157752</td>\n",
       "      <td>10.241833</td>\n",
       "      <td>19.153662</td>\n",
       "      <td>19.460459</td>\n",
       "      <td>22.292686</td>\n",
       "      <td>38.566522</td>\n",
       "      <td>53.023271</td>\n",
       "      <td>83.036505</td>\n",
       "      <td>67.990975</td>\n",
       "      <td>95.024644</td>\n",
       "      <td>119.152988</td>\n",
       "      <td>106.250830</td>\n",
       "      <td>143.168390</td>\n",
       "    </tr>\n",
       "  </tbody>\n",
       "</table>\n",
       "</div>"
      ],
      "text/plain": [
       "            2004-01-31   2005-01-31   2006-01-31   2007-01-31   2008-01-31  \\\n",
       "0303.HK      11.956818    13.152299    19.583469    38.933400    59.039634   \n",
       "035080.KQ  2758.696682  2051.893008  4614.145226  7148.666972  5795.079755   \n",
       "2GF.F              NaN          NaN          NaN          NaN          NaN   \n",
       "AABA         23.770250    30.758254    35.605357    29.151554    27.017421   \n",
       "AAPL          1.628678     2.800831     7.157752    10.241833    19.153662   \n",
       "\n",
       "            2009-01-31   2010-01-31   2011-01-31   2012-01-31   2013-01-31  \\\n",
       "0303.HK      38.519918    54.180478    83.305400    84.078189    90.429000   \n",
       "035080.KQ  4404.571429  6234.212598  5103.869048  5319.190283  6211.400000   \n",
       "2GF.F              NaN          NaN          NaN     0.730577     0.414558   \n",
       "AABA         20.367857    15.215179    15.589486    15.532698    16.342271   \n",
       "AAPL         19.460459    22.292686    38.566522    53.023271    83.036505   \n",
       "\n",
       "            2014-01-31    2015-01-31    2016-01-31   2017-01-31   2018-01-31  \n",
       "0303.HK     105.294262    100.252632     96.951220    89.317073    98.114881  \n",
       "035080.KQ  9145.510204  11107.398374  10496.048387  6609.085366  5116.726190  \n",
       "2GF.F         0.123178      0.029996      0.007642     0.009451     0.015126  \n",
       "AABA         29.362619     40.140359     37.581315    38.563399    47.285632  \n",
       "AAPL         67.990975     95.024644    119.152988   106.250830   143.168390  "
      ]
     },
     "execution_count": 139,
     "metadata": {},
     "output_type": "execute_result"
    }
   ],
   "source": [
    "close.head()"
   ]
  },
  {
   "cell_type": "markdown",
   "metadata": {},
   "source": [
    "--> to reformat the table to a better format which is more usable and efficient:"
   ]
  },
  {
   "cell_type": "code",
   "execution_count": 143,
   "metadata": {
    "collapsed": true
   },
   "outputs": [],
   "source": [
    "final_df= pd.DataFrame(columns=['Ticker symbol','Date','Price'])\n",
    "k =0\n",
    "for i in range(len(close)) : \n",
    "    ts = close.index[i]\n",
    "    for j in range(len(close.iloc[i])): \n",
    "        time_frame = pd.to_datetime(str(close.columns.values[j]))\n",
    "        date = time_frame.strftime('%Y-%m-%d')\n",
    "        final_df.loc[k]=( ts,  date , close.iloc[i][j])\n",
    "        k=k+1"
   ]
  },
  {
   "cell_type": "markdown",
   "metadata": {},
   "source": [
    "--> converting the file to CSV:"
   ]
  },
  {
   "cell_type": "code",
   "execution_count": 146,
   "metadata": {
    "collapsed": true
   },
   "outputs": [],
   "source": [
    "final_df.to_csv('Lab3_Data_Final.csv', index=False, encoding='utf-8')"
   ]
  }
 ],
 "metadata": {
  "kernelspec": {
   "display_name": "Python 2",
   "language": "python",
   "name": "python2"
  },
  "language_info": {
   "codemirror_mode": {
    "name": "ipython",
    "version": 2
   },
   "file_extension": ".py",
   "mimetype": "text/x-python",
   "name": "python",
   "nbconvert_exporter": "python",
   "pygments_lexer": "ipython2",
   "version": "2.7.13"
  }
 },
 "nbformat": 4,
 "nbformat_minor": 2
}
